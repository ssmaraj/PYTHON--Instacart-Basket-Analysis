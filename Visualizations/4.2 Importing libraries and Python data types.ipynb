{
 "cells": [
  {
   "cell_type": "markdown",
   "id": "151db469-2baf-402a-a937-74e281129b42",
   "metadata": {},
   "source": [
    "## 01. Importing libraries"
   ]
  },
  {
   "cell_type": "code",
   "execution_count": null,
   "id": "4ae2d99c-d654-449f-94f5-0d6bdf32efca",
   "metadata": {},
   "outputs": [],
   "source": [
    "import pandas as pd"
   ]
  },
  {
   "cell_type": "code",
   "execution_count": 3,
   "id": "2b492a8f-cffd-49ef-8f2d-c4333d7138f4",
   "metadata": {},
   "outputs": [],
   "source": [
    "import numpy as np"
   ]
  },
  {
   "cell_type": "code",
   "execution_count": 2,
   "id": "85d8d335-fd5a-48ed-a3d4-4864eb400609",
   "metadata": {},
   "outputs": [],
   "source": [
    "import os"
   ]
  },
  {
   "cell_type": "code",
   "execution_count": 4,
   "id": "bdbac222-c99d-4d99-8f9a-9cb17ff62797",
   "metadata": {
    "scrolled": true
   },
   "outputs": [
    {
     "name": "stdout",
     "output_type": "stream",
     "text": [
      "Requirement already satisfied: seaborn in /opt/anaconda3/lib/python3.12/site-packages (0.13.2)\n",
      "Requirement already satisfied: numpy!=1.24.0,>=1.20 in /opt/anaconda3/lib/python3.12/site-packages (from seaborn) (1.26.4)\n",
      "Requirement already satisfied: pandas>=1.2 in /opt/anaconda3/lib/python3.12/site-packages (from seaborn) (2.2.2)\n",
      "Requirement already satisfied: matplotlib!=3.6.1,>=3.4 in /opt/anaconda3/lib/python3.12/site-packages (from seaborn) (3.9.2)\n",
      "Requirement already satisfied: contourpy>=1.0.1 in /opt/anaconda3/lib/python3.12/site-packages (from matplotlib!=3.6.1,>=3.4->seaborn) (1.2.0)\n",
      "Requirement already satisfied: cycler>=0.10 in /opt/anaconda3/lib/python3.12/site-packages (from matplotlib!=3.6.1,>=3.4->seaborn) (0.11.0)\n",
      "Requirement already satisfied: fonttools>=4.22.0 in /opt/anaconda3/lib/python3.12/site-packages (from matplotlib!=3.6.1,>=3.4->seaborn) (4.51.0)\n",
      "Requirement already satisfied: kiwisolver>=1.3.1 in /opt/anaconda3/lib/python3.12/site-packages (from matplotlib!=3.6.1,>=3.4->seaborn) (1.4.4)\n",
      "Requirement already satisfied: packaging>=20.0 in /opt/anaconda3/lib/python3.12/site-packages (from matplotlib!=3.6.1,>=3.4->seaborn) (24.1)\n",
      "Requirement already satisfied: pillow>=8 in /opt/anaconda3/lib/python3.12/site-packages (from matplotlib!=3.6.1,>=3.4->seaborn) (10.4.0)\n",
      "Requirement already satisfied: pyparsing>=2.3.1 in /opt/anaconda3/lib/python3.12/site-packages (from matplotlib!=3.6.1,>=3.4->seaborn) (3.1.2)\n",
      "Requirement already satisfied: python-dateutil>=2.7 in /opt/anaconda3/lib/python3.12/site-packages (from matplotlib!=3.6.1,>=3.4->seaborn) (2.9.0.post0)\n",
      "Requirement already satisfied: pytz>=2020.1 in /opt/anaconda3/lib/python3.12/site-packages (from pandas>=1.2->seaborn) (2024.1)\n",
      "Requirement already satisfied: tzdata>=2022.7 in /opt/anaconda3/lib/python3.12/site-packages (from pandas>=1.2->seaborn) (2023.3)\n",
      "Requirement already satisfied: six>=1.5 in /opt/anaconda3/lib/python3.12/site-packages (from python-dateutil>=2.7->matplotlib!=3.6.1,>=3.4->seaborn) (1.16.0)\n",
      "Note: you may need to restart the kernel to use updated packages.\n"
     ]
    }
   ],
   "source": [
    "pip install seaborn "
   ]
  },
  {
   "cell_type": "code",
   "execution_count": 6,
   "id": "1f572065-1439-4a23-aea4-7bf2853aeeb1",
   "metadata": {},
   "outputs": [],
   "source": [
    "import seaborn as sns"
   ]
  },
  {
   "cell_type": "code",
   "execution_count": 7,
   "id": "387382b7-2a32-4121-b6df-2a9cdf63fa3b",
   "metadata": {},
   "outputs": [],
   "source": [
    "import re"
   ]
  },
  {
   "cell_type": "code",
   "execution_count": 8,
   "id": "ccadcf87-6952-49d5-9805-e8333b5a6912",
   "metadata": {},
   "outputs": [
    {
     "ename": "ModuleNotFoundError",
     "evalue": "No module named 'catboost'",
     "output_type": "error",
     "traceback": [
      "\u001b[0;31m---------------------------------------------------------------------------\u001b[0m",
      "\u001b[0;31mModuleNotFoundError\u001b[0m                       Traceback (most recent call last)",
      "Cell \u001b[0;32mIn[8], line 1\u001b[0m\n\u001b[0;32m----> 1\u001b[0m \u001b[38;5;28;01mimport\u001b[39;00m \u001b[38;5;21;01mcatboost\u001b[39;00m\n",
      "\u001b[0;31mModuleNotFoundError\u001b[0m: No module named 'catboost'"
     ]
    }
   ],
   "source": [
    "import catboost"
   ]
  },
  {
   "cell_type": "code",
   "execution_count": 9,
   "id": "f64ae6c5-a22e-4562-9b0c-76b113b82b1c",
   "metadata": {},
   "outputs": [
    {
     "name": "stdout",
     "output_type": "stream",
     "text": [
      "Collecting catboost\n",
      "  Downloading catboost-1.2.8-cp312-cp312-macosx_11_0_universal2.whl.metadata (1.4 kB)\n",
      "Collecting graphviz (from catboost)\n",
      "  Downloading graphviz-0.21-py3-none-any.whl.metadata (12 kB)\n",
      "Requirement already satisfied: matplotlib in /opt/anaconda3/lib/python3.12/site-packages (from catboost) (3.9.2)\n",
      "Requirement already satisfied: numpy<3.0,>=1.16.0 in /opt/anaconda3/lib/python3.12/site-packages (from catboost) (1.26.4)\n",
      "Requirement already satisfied: pandas>=0.24 in /opt/anaconda3/lib/python3.12/site-packages (from catboost) (2.2.2)\n",
      "Requirement already satisfied: scipy in /opt/anaconda3/lib/python3.12/site-packages (from catboost) (1.13.1)\n",
      "Requirement already satisfied: plotly in /opt/anaconda3/lib/python3.12/site-packages (from catboost) (5.24.1)\n",
      "Requirement already satisfied: six in /opt/anaconda3/lib/python3.12/site-packages (from catboost) (1.16.0)\n",
      "Requirement already satisfied: python-dateutil>=2.8.2 in /opt/anaconda3/lib/python3.12/site-packages (from pandas>=0.24->catboost) (2.9.0.post0)\n",
      "Requirement already satisfied: pytz>=2020.1 in /opt/anaconda3/lib/python3.12/site-packages (from pandas>=0.24->catboost) (2024.1)\n",
      "Requirement already satisfied: tzdata>=2022.7 in /opt/anaconda3/lib/python3.12/site-packages (from pandas>=0.24->catboost) (2023.3)\n",
      "Requirement already satisfied: contourpy>=1.0.1 in /opt/anaconda3/lib/python3.12/site-packages (from matplotlib->catboost) (1.2.0)\n",
      "Requirement already satisfied: cycler>=0.10 in /opt/anaconda3/lib/python3.12/site-packages (from matplotlib->catboost) (0.11.0)\n",
      "Requirement already satisfied: fonttools>=4.22.0 in /opt/anaconda3/lib/python3.12/site-packages (from matplotlib->catboost) (4.51.0)\n",
      "Requirement already satisfied: kiwisolver>=1.3.1 in /opt/anaconda3/lib/python3.12/site-packages (from matplotlib->catboost) (1.4.4)\n",
      "Requirement already satisfied: packaging>=20.0 in /opt/anaconda3/lib/python3.12/site-packages (from matplotlib->catboost) (24.1)\n",
      "Requirement already satisfied: pillow>=8 in /opt/anaconda3/lib/python3.12/site-packages (from matplotlib->catboost) (10.4.0)\n",
      "Requirement already satisfied: pyparsing>=2.3.1 in /opt/anaconda3/lib/python3.12/site-packages (from matplotlib->catboost) (3.1.2)\n",
      "Requirement already satisfied: tenacity>=6.2.0 in /opt/anaconda3/lib/python3.12/site-packages (from plotly->catboost) (8.2.3)\n",
      "Downloading catboost-1.2.8-cp312-cp312-macosx_11_0_universal2.whl (27.8 MB)\n",
      "\u001b[2K   \u001b[90m━━━━━━━━━━━━━━━━━━━━━━━━━━━━━━━━━━━━━━━━\u001b[0m \u001b[32m27.8/27.8 MB\u001b[0m \u001b[31m4.9 MB/s\u001b[0m eta \u001b[36m0:00:00\u001b[0m00:01\u001b[0m00:01\u001b[0m\n",
      "\u001b[?25hDownloading graphviz-0.21-py3-none-any.whl (47 kB)\n",
      "Installing collected packages: graphviz, catboost\n",
      "Successfully installed catboost-1.2.8 graphviz-0.21\n",
      "Note: you may need to restart the kernel to use updated packages.\n"
     ]
    }
   ],
   "source": [
    "pip install catboost"
   ]
  },
  {
   "cell_type": "code",
   "execution_count": 10,
   "id": "3aa6b79c-2fcc-4f5c-b6dc-bd83fc8a15c5",
   "metadata": {},
   "outputs": [],
   "source": [
    "import catboost"
   ]
  },
  {
   "cell_type": "markdown",
   "id": "f44ad7c7-98a2-4864-9f41-6a95c45ef355",
   "metadata": {},
   "source": [
    "## 02. Python Data Types"
   ]
  },
  {
   "cell_type": "code",
   "execution_count": 3,
   "id": "a360e804-bf04-43ec-9b94-f7fe0c8408b6",
   "metadata": {},
   "outputs": [],
   "source": [
    "#1. Integers (whole numbers)"
   ]
  },
  {
   "cell_type": "code",
   "execution_count": 4,
   "id": "11a5495a-34d2-43fe-a75a-d99e06a26e50",
   "metadata": {},
   "outputs": [],
   "source": [
    "x = 2"
   ]
  },
  {
   "cell_type": "code",
   "execution_count": 5,
   "id": "b77c9419-ef55-4cfd-af53-7e9ae6b9b456",
   "metadata": {},
   "outputs": [
    {
     "data": {
      "text/plain": [
       "2"
      ]
     },
     "execution_count": 5,
     "metadata": {},
     "output_type": "execute_result"
    }
   ],
   "source": [
    "x"
   ]
  },
  {
   "cell_type": "code",
   "execution_count": 6,
   "id": "062d31c8-aed4-4404-9dd0-54617416d4d9",
   "metadata": {},
   "outputs": [
    {
     "name": "stdout",
     "output_type": "stream",
     "text": [
      "2\n"
     ]
    }
   ],
   "source": [
    "print (x)"
   ]
  },
  {
   "cell_type": "code",
   "execution_count": 7,
   "id": "3e777ccd-a477-413d-8c6f-968a868eb1b6",
   "metadata": {},
   "outputs": [
    {
     "data": {
      "text/plain": [
       "int"
      ]
     },
     "execution_count": 7,
     "metadata": {},
     "output_type": "execute_result"
    }
   ],
   "source": [
    "type (x)"
   ]
  },
  {
   "cell_type": "code",
   "execution_count": 8,
   "id": "9cfe13bb-9dd9-4feb-96aa-affdf8abc944",
   "metadata": {},
   "outputs": [],
   "source": [
    "#2. Floating-Point Numbers (decimals)"
   ]
  },
  {
   "cell_type": "code",
   "execution_count": 9,
   "id": "e592f848-144a-4b44-8f2f-335b6625732f",
   "metadata": {},
   "outputs": [],
   "source": [
    "y = 5.678"
   ]
  },
  {
   "cell_type": "code",
   "execution_count": 10,
   "id": "dc8586be-b2b0-42cf-b2f2-e42e7cc39f7b",
   "metadata": {},
   "outputs": [
    {
     "data": {
      "text/plain": [
       "float"
      ]
     },
     "execution_count": 10,
     "metadata": {},
     "output_type": "execute_result"
    }
   ],
   "source": [
    "type (y)"
   ]
  },
  {
   "cell_type": "code",
   "execution_count": 11,
   "id": "22bc5d6c-0ee0-4741-b16d-9fc2ed55319e",
   "metadata": {},
   "outputs": [],
   "source": [
    "#03. Strings (text)"
   ]
  },
  {
   "cell_type": "code",
   "execution_count": 12,
   "id": "2b52040a-0249-4494-a2a5-e2026fec985c",
   "metadata": {},
   "outputs": [],
   "source": [
    "z = 'Brazil'"
   ]
  },
  {
   "cell_type": "code",
   "execution_count": 13,
   "id": "a6a7823f-7653-4b58-9ed3-cf27c2083a39",
   "metadata": {},
   "outputs": [
    {
     "data": {
      "text/plain": [
       "str"
      ]
     },
     "execution_count": 13,
     "metadata": {},
     "output_type": "execute_result"
    }
   ],
   "source": [
    "type (z)"
   ]
  },
  {
   "cell_type": "code",
   "execution_count": 15,
   "id": "3b09e1bf-8142-45d8-91f1-2993d9a899fc",
   "metadata": {},
   "outputs": [
    {
     "data": {
      "text/plain": [
       "str"
      ]
     },
     "execution_count": 15,
     "metadata": {},
     "output_type": "execute_result"
    }
   ],
   "source": [
    "type ('Mania')"
   ]
  },
  {
   "cell_type": "code",
   "execution_count": 16,
   "id": "48903488-121d-4f80-86b6-343f8ba9d25e",
   "metadata": {},
   "outputs": [],
   "source": [
    "#04. Boolean (True/False)"
   ]
  },
  {
   "cell_type": "code",
   "execution_count": 17,
   "id": "2ca2b868-b16b-40de-ad76-e325a5dd73ed",
   "metadata": {},
   "outputs": [
    {
     "data": {
      "text/plain": [
       "bool"
      ]
     },
     "execution_count": 17,
     "metadata": {},
     "output_type": "execute_result"
    }
   ],
   "source": [
    "type (True)"
   ]
  },
  {
   "cell_type": "code",
   "execution_count": 18,
   "id": "6be274b5-1b89-4467-8992-2fd114b32ba9",
   "metadata": {},
   "outputs": [
    {
     "data": {
      "text/plain": [
       "bool"
      ]
     },
     "execution_count": 18,
     "metadata": {},
     "output_type": "execute_result"
    }
   ],
   "source": [
    "type (False)"
   ]
  },
  {
   "cell_type": "code",
   "execution_count": 19,
   "id": "d149ea8c-bad5-42a6-a8fb-2bdfe2d12272",
   "metadata": {},
   "outputs": [
    {
     "data": {
      "text/plain": [
       "6"
      ]
     },
     "execution_count": 19,
     "metadata": {},
     "output_type": "execute_result"
    }
   ],
   "source": [
    "x + 4"
   ]
  },
  {
   "cell_type": "code",
   "execution_count": 20,
   "id": "473c7c07-1ff4-41f7-ac93-3947e2c08813",
   "metadata": {},
   "outputs": [
    {
     "data": {
      "text/plain": [
       "7.678"
      ]
     },
     "execution_count": 20,
     "metadata": {},
     "output_type": "execute_result"
    }
   ],
   "source": [
    "x + y"
   ]
  },
  {
   "cell_type": "code",
   "execution_count": 21,
   "id": "49c64aa1-3bef-49b3-9639-033a225ba24f",
   "metadata": {},
   "outputs": [],
   "source": [
    "x = x + 4"
   ]
  },
  {
   "cell_type": "code",
   "execution_count": 22,
   "id": "d0cddfbb-43b5-465f-9bb0-476e1c79cc19",
   "metadata": {},
   "outputs": [
    {
     "name": "stdout",
     "output_type": "stream",
     "text": [
      "6\n"
     ]
    }
   ],
   "source": [
    "print (x)"
   ]
  },
  {
   "cell_type": "code",
   "execution_count": 29,
   "id": "1529d0f7-1605-487e-b740-1b42c91ac245",
   "metadata": {},
   "outputs": [],
   "source": [
    "a = 'Hello, '"
   ]
  },
  {
   "cell_type": "code",
   "execution_count": 30,
   "id": "28985f8f-7f61-46cb-b437-cdaa68e5608b",
   "metadata": {},
   "outputs": [],
   "source": [
    "b= 'Marley'"
   ]
  },
  {
   "cell_type": "code",
   "execution_count": 31,
   "id": "f1c838cd-0c3f-4182-94f9-16bf2fff775c",
   "metadata": {},
   "outputs": [
    {
     "data": {
      "text/plain": [
       "'Hello, Marley'"
      ]
     },
     "execution_count": 31,
     "metadata": {},
     "output_type": "execute_result"
    }
   ],
   "source": [
    "a+b"
   ]
  },
  {
   "cell_type": "code",
   "execution_count": 33,
   "id": "ffb514e9-0a4e-4d45-be38-0abdaa061734",
   "metadata": {},
   "outputs": [],
   "source": [
    "n = 'potato'"
   ]
  },
  {
   "cell_type": "code",
   "execution_count": 34,
   "id": "425f557a-e840-459f-bdb8-71482ef34591",
   "metadata": {},
   "outputs": [
    {
     "data": {
      "text/plain": [
       "'potatopotatopotatopotatopotatopotatopotatopotatopotatopotatopotatopotato'"
      ]
     },
     "execution_count": 34,
     "metadata": {},
     "output_type": "execute_result"
    }
   ],
   "source": [
    "n*12"
   ]
  },
  {
   "cell_type": "code",
   "execution_count": 35,
   "id": "0bc074d5-d8cb-498a-8c41-b7419f194f33",
   "metadata": {},
   "outputs": [
    {
     "data": {
      "text/plain": [
       "False"
      ]
     },
     "execution_count": 35,
     "metadata": {},
     "output_type": "execute_result"
    }
   ],
   "source": [
    "x == y "
   ]
  },
  {
   "cell_type": "code",
   "execution_count": 36,
   "id": "58cdb8c2-bace-4a24-b966-204eb78be908",
   "metadata": {},
   "outputs": [
    {
     "data": {
      "text/plain": [
       "bool"
      ]
     },
     "execution_count": 36,
     "metadata": {},
     "output_type": "execute_result"
    }
   ],
   "source": [
    "type (x == y)"
   ]
  },
  {
   "cell_type": "code",
   "execution_count": 38,
   "id": "8e572d3f-cd7f-4ac9-bf7c-e47df1e35c6b",
   "metadata": {},
   "outputs": [],
   "source": [
    "## Ex 4.2 Exercise Questions"
   ]
  },
  {
   "cell_type": "code",
   "execution_count": 39,
   "id": "cc1fc8f6-4a01-4445-9d39-4e090422b1d9",
   "metadata": {},
   "outputs": [],
   "source": [
    "## Code 3 different ways of reaching a result of 100 by adding or subtracting numeric variables."
   ]
  },
  {
   "cell_type": "code",
   "execution_count": 40,
   "id": "67fed79f-744f-499e-abc2-7165634afc51",
   "metadata": {},
   "outputs": [
    {
     "data": {
      "text/plain": [
       "100"
      ]
     },
     "execution_count": 40,
     "metadata": {},
     "output_type": "execute_result"
    }
   ],
   "source": [
    "90+10"
   ]
  },
  {
   "cell_type": "code",
   "execution_count": 41,
   "id": "ccb2fc4f-0e5c-4ddb-9490-645c82483fbd",
   "metadata": {},
   "outputs": [
    {
     "data": {
      "text/plain": [
       "100"
      ]
     },
     "execution_count": 41,
     "metadata": {},
     "output_type": "execute_result"
    }
   ],
   "source": [
    "200-100"
   ]
  },
  {
   "cell_type": "code",
   "execution_count": 42,
   "id": "3a7abf9d-d101-4a5b-b366-eb54624afd2d",
   "metadata": {},
   "outputs": [
    {
     "data": {
      "text/plain": [
       "100"
      ]
     },
     "execution_count": 42,
     "metadata": {},
     "output_type": "execute_result"
    }
   ],
   "source": [
    "75+25"
   ]
  },
  {
   "cell_type": "code",
   "execution_count": 43,
   "id": "301a1b0f-15d6-46c9-88a9-a6b7baefa369",
   "metadata": {},
   "outputs": [],
   "source": [
    "## Code 2 floating-point variables and divide them by each other."
   ]
  },
  {
   "cell_type": "code",
   "execution_count": 44,
   "id": "fbeb2f30-4de7-4444-8c35-a4d98f94ef43",
   "metadata": {},
   "outputs": [],
   "source": [
    "x = 6.987 "
   ]
  },
  {
   "cell_type": "code",
   "execution_count": 45,
   "id": "2b1d9f7e-c234-4598-b660-107d40782426",
   "metadata": {},
   "outputs": [],
   "source": [
    "y = 2.654"
   ]
  },
  {
   "cell_type": "code",
   "execution_count": 46,
   "id": "45caf2a6-3523-4657-a51c-1986451d682a",
   "metadata": {},
   "outputs": [
    {
     "data": {
      "text/plain": [
       "2.632629992464205"
      ]
     },
     "execution_count": 46,
     "metadata": {},
     "output_type": "execute_result"
    }
   ],
   "source": [
    "x/y"
   ]
  },
  {
   "cell_type": "code",
   "execution_count": 47,
   "id": "1ed74442-201c-431e-a32d-79a17f2b0877",
   "metadata": {},
   "outputs": [],
   "source": [
    "## Construct a short word made of separate strings (you’ll need to concatenate some strings!)."
   ]
  },
  {
   "cell_type": "code",
   "execution_count": null,
   "id": "2fede07d-1486-48c8-ae18-193acd9050b2",
   "metadata": {},
   "outputs": [],
   "source": [
    "a = \"hel\""
   ]
  },
  {
   "cell_type": "code",
   "execution_count": 56,
   "id": "398e78c3-e45c-44fd-840b-acbe1c1199ee",
   "metadata": {},
   "outputs": [],
   "source": [
    "b = \"lo\""
   ]
  },
  {
   "cell_type": "code",
   "execution_count": 57,
   "id": "86377d5d-aa91-4bfd-b9ce-59b4a69d68cb",
   "metadata": {},
   "outputs": [],
   "source": [
    "word = (a+b)"
   ]
  },
  {
   "cell_type": "code",
   "execution_count": 69,
   "id": "f0028538-62c4-4938-bd33-0d6b0861dc35",
   "metadata": {},
   "outputs": [
    {
     "name": "stdout",
     "output_type": "stream",
     "text": [
      "hello\n"
     ]
    }
   ],
   "source": [
    "print(word)"
   ]
  },
  {
   "cell_type": "code",
   "execution_count": 70,
   "id": "e24fe8cb-522b-48cf-b0ce-4a07890c328d",
   "metadata": {},
   "outputs": [],
   "source": [
    "## Construct 2 short sentences made of separate strings"
   ]
  },
  {
   "cell_type": "code",
   "execution_count": 71,
   "id": "da54e4c0-66a2-4a77-98b9-c79b8da2c8db",
   "metadata": {},
   "outputs": [],
   "source": [
    "word1 = 'Python '"
   ]
  },
  {
   "cell_type": "code",
   "execution_count": 72,
   "id": "1ea14340-3370-476a-83e2-f5c37415d0f7",
   "metadata": {},
   "outputs": [],
   "source": [
    "word2 = 'is '"
   ]
  },
  {
   "cell_type": "code",
   "execution_count": 73,
   "id": "c73dc869-f3ba-463a-ae5d-b2e5445cf9b2",
   "metadata": {},
   "outputs": [],
   "source": [
    "word3 = 'fun.'"
   ]
  },
  {
   "cell_type": "code",
   "execution_count": 74,
   "id": "6e03308b-41a8-4f30-8ed9-e0bea0a8b130",
   "metadata": {},
   "outputs": [],
   "source": [
    "sentence1 = word1 + word2 + word3"
   ]
  },
  {
   "cell_type": "code",
   "execution_count": 75,
   "id": "e5d45a2e-bbd3-4c70-822f-83737908a399",
   "metadata": {},
   "outputs": [
    {
     "name": "stdout",
     "output_type": "stream",
     "text": [
      "Python is fun.\n"
     ]
    }
   ],
   "source": [
    "print(sentence1)"
   ]
  },
  {
   "cell_type": "code",
   "execution_count": 76,
   "id": "e125c14c-29c5-48ef-a957-940134404012",
   "metadata": {},
   "outputs": [],
   "source": [
    "word4 = 'My '"
   ]
  },
  {
   "cell_type": "code",
   "execution_count": 77,
   "id": "26d8cd79-5f49-4147-bf6e-5e30b7b9249f",
   "metadata": {},
   "outputs": [],
   "source": [
    "word5 = 'name '"
   ]
  },
  {
   "cell_type": "code",
   "execution_count": 78,
   "id": "db0b34da-677d-421c-9fd8-5457f7d19053",
   "metadata": {},
   "outputs": [],
   "source": [
    "word6 = 'is '"
   ]
  },
  {
   "cell_type": "code",
   "execution_count": 79,
   "id": "72c9f4b3-b73b-4c1f-8c21-b18c9e78bf53",
   "metadata": {},
   "outputs": [],
   "source": [
    "word7 = 'Shanta.'"
   ]
  },
  {
   "cell_type": "code",
   "execution_count": 80,
   "id": "718ab1c7-a5ee-4a2c-a98b-cb29f5ef1910",
   "metadata": {},
   "outputs": [],
   "source": [
    "sentence2 = word4 + word5 + word6 + word7"
   ]
  },
  {
   "cell_type": "code",
   "execution_count": 81,
   "id": "481642e1-2f89-48c7-984c-26716e45343e",
   "metadata": {},
   "outputs": [
    {
     "name": "stdout",
     "output_type": "stream",
     "text": [
      "My name is Shanta.\n"
     ]
    }
   ],
   "source": [
    "print(sentence2)"
   ]
  },
  {
   "cell_type": "code",
   "execution_count": 82,
   "id": "2a34895a-5de5-42c2-ba26-a0b486739bd8",
   "metadata": {},
   "outputs": [],
   "source": [
    "## Bonus- include a command that makes a string appear 100 times"
   ]
  },
  {
   "cell_type": "code",
   "execution_count": 85,
   "id": "e9ada8af-1e0f-4a77-b1e9-ab2a5bce4cc2",
   "metadata": {},
   "outputs": [
    {
     "data": {
      "text/plain": [
       "'hellohellohellohellohellohellohellohellohellohellohellohellohellohellohellohellohellohellohellohellohellohellohellohellohellohellohellohellohellohellohellohellohellohellohellohellohellohellohellohellohellohellohellohellohellohellohellohellohellohellohellohellohellohellohellohellohellohellohellohellohellohellohellohellohellohellohellohellohellohellohellohellohellohellohellohellohellohellohellohellohellohellohellohellohellohellohellohellohellohellohellohellohellohellohellohellohellohellohellohello'"
      ]
     },
     "execution_count": 85,
     "metadata": {},
     "output_type": "execute_result"
    }
   ],
   "source": [
    "word*100"
   ]
  }
 ],
 "metadata": {
  "kernelspec": {
   "display_name": "Python 3 (ipykernel)",
   "language": "python",
   "name": "python3"
  },
  "language_info": {
   "codemirror_mode": {
    "name": "ipython",
    "version": 3
   },
   "file_extension": ".py",
   "mimetype": "text/x-python",
   "name": "python",
   "nbconvert_exporter": "python",
   "pygments_lexer": "ipython3",
   "version": "3.12.7"
  },
  "panel-cell-order": [
   "c1b8f88b-fcae-4f27-be5c-27b328d55050",
   "d8414f95-a3f5-4bd1-9535-32e75401a759",
   "d5af12c4-e293-4752-8e95-908306555a19"
  ]
 },
 "nbformat": 4,
 "nbformat_minor": 5
}
